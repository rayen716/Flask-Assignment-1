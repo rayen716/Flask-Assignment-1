{
 "cells": [
  {
   "cell_type": "code",
   "execution_count": null,
   "id": "995cc652",
   "metadata": {},
   "outputs": [],
   "source": [
    "Q1. What is Flask Framework? What are the advantages of Flask Framework?\n",
    "Ans1. Flask is a micro web framework for Python, designed to be lightweight, flexible, and easy to use. It was created by Armin Ronacher and released in 2010. Flask is used for building web applications and APIs, and is particularly popular for building small to medium-sized projects.\n",
    "\n",
    "Advantages of Flask:\n",
    "Lightweight: Flask is a micro-framework and is designed to be lightweight and minimalistic. It allows developers to build applications with only the features they need, making it easy to use and fast to learn.\n",
    "Flexible: Flask is highly flexible and can be used to build a wide variety of web applications, from simple static sites to complex, dynamic applications."
   ]
  },
  {
   "cell_type": "code",
   "execution_count": null,
   "id": "8be0736c",
   "metadata": {},
   "outputs": [],
   "source": [
    "Q2. Create a simple Flask application to display ‘Hello World!!’. Attach the screenshot of the output in Jupyter Notebook?\\\n",
    "Ans2. from flask import Flask\n",
    "\n",
    "app = Flask(__name__)\n",
    "\n",
    "@app.route(\"/\")\n",
    "def hello():\n",
    "    return \"Hello World!!\"\n",
    "\n",
    "if __name__ == \"__main__\":\n",
    "    app.run(debug=True)\n"
   ]
  },
  {
   "cell_type": "code",
   "execution_count": null,
   "id": "991aed62",
   "metadata": {},
   "outputs": [],
   "source": [
    "Q3. What is App routing in Flask? Why do we use app routes?\n",
    "Ans3. In Flask, \"app routing\" refers to the process of defining URL routes that correspond to specific functions or views within a Flask application. Each route is defined using the @app.route() decorator, which binds a URL pattern to a view function that should be executed when that URL is requested.\n",
    "\n",
    "from flask import Flask\n",
    "\n",
    "app = Flask(__name__)\n",
    "\n",
    "@app.route('/')\n",
    "def home():\n",
    "    return 'This is the home page.'\n",
    "\n",
    "@app.route('/about')\n",
    "def about():\n",
    "    return 'This is the about page.'\n",
    "\n",
    "if __name__ == '__main__':\n",
    "    app.run(debug=True)"
   ]
  },
  {
   "cell_type": "code",
   "execution_count": null,
   "id": "6860f210",
   "metadata": {},
   "outputs": [],
   "source": [
    "Q4. Create a “/welcome” route to display the welcome message “Welcome to ABC Corporation” and a “/”\n",
    "route to show the following details:\n",
    "Company Name: ABC Corporation\n",
    "Location: India\n",
    "Contact Detail: 999-999-9999\n",
    "Ans4. from flask import Flask\n",
    "\n",
    "app = Flask(__name__)\n",
    "\n",
    "@app.route(\"/\")\n",
    "def home():\n",
    "    return \"\"\"Company Name: ABC Corporation\n",
    "Location: India\n",
    "Contact Detail: 999-999-9999\"\"\"\n",
    "\n",
    "@app.route(\"/welcome\")\n",
    "def welcome():\n",
    "    return \"Welcome to ABC Corporation\"\n",
    "\n",
    "if __name__ == \"__main__\":\n",
    "    app.run(debug=True)"
   ]
  },
  {
   "cell_type": "code",
   "execution_count": null,
   "id": "c5d39d5d",
   "metadata": {},
   "outputs": [],
   "source": [
    "Q5. What function is used in Flask for URL Building? Write a Python code to demonstrate the working of the\n",
    "url_for() function?\n",
    "Ans5. In Flask, the url_for() function is used for URL building. This function generates a URL for the given endpoint with the specified arguments.\n",
    "from flask import Flask, url_for\n",
    "\n",
    "app = Flask(__name__)\n",
    "\n",
    "@app.route(\"/\")\n",
    "def home():\n",
    "    # generate a URL for the 'welcome' endpoint\n",
    "    welcome_url = url_for(\"welcome\")\n",
    "\n",
    "    # generate a URL for the 'contact' endpoint with an 'id' parameter\n",
    "    contact_url = url_for(\"contact\", id=123)\n",
    "\n",
    "    # return the generated URLs\n",
    "    return f\"\"\"<p>Welcome URL: {welcome_url}</p>\n",
    "                <p>Contact URL: {contact_url}</p>\"\"\"\n",
    "\n",
    "@app.route(\"/welcome\")\n",
    "def welcome():\n",
    "    return \"Welcome to my website!\"\n",
    "\n",
    "@app.route(\"/contact/<int:id>\")\n",
    "def contact(id):\n",
    "    return f\"Contact page for user with ID {id}\"\n",
    "\n",
    "if __name__ == \"__main__\":\n",
    "    app.run(debug=True)"
   ]
  }
 ],
 "metadata": {
  "kernelspec": {
   "display_name": "Python 3 (ipykernel)",
   "language": "python",
   "name": "python3"
  },
  "language_info": {
   "codemirror_mode": {
    "name": "ipython",
    "version": 3
   },
   "file_extension": ".py",
   "mimetype": "text/x-python",
   "name": "python",
   "nbconvert_exporter": "python",
   "pygments_lexer": "ipython3",
   "version": "3.9.13"
  }
 },
 "nbformat": 4,
 "nbformat_minor": 5
}
